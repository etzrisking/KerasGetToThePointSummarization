{
 "cells": [
  {
   "cell_type": "code",
   "execution_count": 1,
   "metadata": {},
   "outputs": [],
   "source": [
    "import numpy as np\n",
    "import os\n",
    "import re\n",
    "from tqdm import tqdm_notebook\n",
    "import pickle"
   ]
  },
  {
   "cell_type": "code",
   "execution_count": 2,
   "metadata": {},
   "outputs": [],
   "source": [
    "DATA_DIR = r'D:\\projects\\nlp\\summarization\\stories'\n",
    "VOCAB_DIR = r'D:\\projects\\nlp\\summarization\\stories\\vocab'\n",
    "SAVE_PKL_DIR = r'D:\\projects\\nlp\\summarization\\stories\\all_pkl'\n",
    "SAVE_BIN_DIR = r'D:\\projects\\nlp\\summarization\\stories\\all_bin'"
   ]
  },
  {
   "cell_type": "markdown",
   "metadata": {},
   "source": [
    "**Create Binary File**"
   ]
  },
  {
   "cell_type": "code",
   "execution_count": 5,
   "metadata": {},
   "outputs": [],
   "source": [
    "#vocab_source = pickle.load(open(os.path.join(VOCAB_DIR, 'vocab_source.pkl'), 'rb'))\n",
    "#vocab_target = pickle.load(open(os.path.join(VOCAB_DIR, 'vocab_target.pkl'), 'rb'))\n",
    "vocab = pickle.load(open(os.path.join(VOCAB_DIR, 'vocab.pkl'), 'rb'))\n",
    "VOC_SIZE = len(vocab) + 1"
   ]
  },
  {
   "cell_type": "code",
   "execution_count": 6,
   "metadata": {},
   "outputs": [],
   "source": [
    "def pad(x, max_len, p_type='pre'):\n",
    "    x_len = len(x)\n",
    "    require = max_len - x_len\n",
    "    \n",
    "    if require < 0:\n",
    "        return x[:max_len]\n",
    "    \n",
    "    if p_type == 'pre':\n",
    "        return [0] * require + x\n",
    "    else:\n",
    "        return x + [0] * require\n",
    "    \n",
    "def template(VOC_SIZE, pos):\n",
    "    y = np.zeros(VOC_SIZE)\n",
    "    y[pos] = 1\n",
    "    return y\n",
    "    \n",
    "def into_categorical(y):    \n",
    "    return np.array([template(VOC_SIZE, yi) for yi in y])"
   ]
  },
  {
   "cell_type": "code",
   "execution_count": 8,
   "metadata": {},
   "outputs": [
    {
     "data": {
      "application/vnd.jupyter.widget-view+json": {
       "model_id": "8e7b1d4ab1e54aab8bda4e4987b3321a",
       "version_major": 2,
       "version_minor": 0
      },
      "text/plain": [
       "HBox(children=(IntProgress(value=0, max=19507), HTML(value='')))"
      ]
     },
     "metadata": {},
     "output_type": "display_data"
    },
    {
     "name": "stdout",
     "output_type": "stream",
     "text": [
      "\n"
     ]
    }
   ],
   "source": [
    "for obj_fp in tqdm_notebook(os.listdir(SAVE_PKL_DIR)):\n",
    "    # retrieve object\n",
    "    full_obj_fp = os.path.join(SAVE_PKL_DIR, obj_fp)\n",
    "    obj = pickle.load(open(full_obj_fp, 'rb'))\n",
    "    \n",
    "    stories = obj[0]\n",
    "    highlights = obj[1]\n",
    "    \n",
    "    # convert to vocab index\n",
    "    stories = [[vocab[w] for w in s if w in vocab] for s in stories]\n",
    "    highlights = [[vocab[w] for w in s if w in vocab] for s in highlights]\n",
    "        \n",
    "    binary = [stories, highlights]\n",
    "    \n",
    "    filename = len(os.listdir(SAVE_BIN_DIR)) + 1\n",
    "    filename = os.path.join(SAVE_BIN_DIR, 'story_highlight_{}.bin'.format(filename))\n",
    "    pickle.dump(binary, open(filename, \"wb\"))"
   ]
  }
 ],
 "metadata": {
  "kernelspec": {
   "display_name": "tf_gpu",
   "language": "python",
   "name": "tf_gpu"
  },
  "language_info": {
   "codemirror_mode": {
    "name": "ipython",
    "version": 3
   },
   "file_extension": ".py",
   "mimetype": "text/x-python",
   "name": "python",
   "nbconvert_exporter": "python",
   "pygments_lexer": "ipython3",
   "version": "3.5.6"
  }
 },
 "nbformat": 4,
 "nbformat_minor": 2
}
