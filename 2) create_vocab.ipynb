{
 "cells": [
  {
   "cell_type": "code",
   "execution_count": 1,
   "metadata": {},
   "outputs": [],
   "source": [
    "import numpy as np\n",
    "import os\n",
    "import re\n",
    "from tqdm import tqdm_notebook\n",
    "import pickle\n",
    "\n",
    "from collections import Counter"
   ]
  },
  {
   "cell_type": "code",
   "execution_count": 2,
   "metadata": {},
   "outputs": [],
   "source": [
    "DATA_DIR = r'D:\\projects\\nlp\\summarization\\stories'\n",
    "VOCAB_DIR = r'D:\\projects\\nlp\\summarization\\stories\\vocab'\n",
    "SAVE_PKL_DIR = r'D:\\projects\\nlp\\summarization\\stories\\all_pkl'\n",
    "SAVE_BIN_DIR = r'D:\\projects\\nlp\\summarization\\stories\\all_bin'"
   ]
  },
  {
   "cell_type": "markdown",
   "metadata": {},
   "source": [
    "**Create Vocab**"
   ]
  },
  {
   "cell_type": "code",
   "execution_count": 3,
   "metadata": {},
   "outputs": [
    {
     "data": {
      "application/vnd.jupyter.widget-view+json": {
       "model_id": "42d12fbe37454f38a9bc020ad489a3ba",
       "version_major": 2,
       "version_minor": 0
      },
      "text/plain": [
       "HBox(children=(IntProgress(value=0, max=19507), HTML(value='')))"
      ]
     },
     "metadata": {},
     "output_type": "display_data"
    },
    {
     "name": "stdout",
     "output_type": "stream",
     "text": [
      "\n"
     ]
    }
   ],
   "source": [
    "words = Counter()\n",
    "\n",
    "for obj_fp in tqdm_notebook(os.listdir(SAVE_PKL_DIR)):\n",
    "    full_obj_fp = os.path.join(SAVE_PKL_DIR, obj_fp)\n",
    "    obj = pickle.load(open(full_obj_fp, 'rb'))\n",
    "    \n",
    "    stories = obj[0]\n",
    "    highlights = obj[1]\n",
    "    \n",
    "    stories_word = [w for story in stories for w in story]\n",
    "    highlights_word = [w for highlight in highlights for w in highlight]\n",
    "    \n",
    "    words.update(stories_word)    \n",
    "    words.update(highlights_word)"
   ]
  },
  {
   "cell_type": "markdown",
   "metadata": {},
   "source": [
    "**Filter Vocab**"
   ]
  },
  {
   "cell_type": "code",
   "execution_count": 12,
   "metadata": {},
   "outputs": [],
   "source": [
    "words = [w for w,_ in words.most_common(50000)]\n",
    "words = {w: i+1 for i,w in enumerate(words)} # 0 for padding"
   ]
  },
  {
   "cell_type": "code",
   "execution_count": 14,
   "metadata": {},
   "outputs": [
    {
     "name": "stdout",
     "output_type": "stream",
     "text": [
      "73\n",
      "74\n",
      "633\n",
      "40\n",
      "7\n"
     ]
    }
   ],
   "source": [
    "# Check\n",
    "print(words['<sos>'])\n",
    "print(words['<eos>'])\n",
    "print(words['<percent>'])\n",
    "print(words['<currency>'])\n",
    "print(words['<number>'])"
   ]
  },
  {
   "cell_type": "code",
   "execution_count": 15,
   "metadata": {},
   "outputs": [],
   "source": [
    "pickle.dump(words, open(os.path.join(VOCAB_DIR, 'vocab.pkl') , 'wb'))"
   ]
  }
 ],
 "metadata": {
  "kernelspec": {
   "display_name": "tf_gpu",
   "language": "python",
   "name": "tf_gpu"
  },
  "language_info": {
   "codemirror_mode": {
    "name": "ipython",
    "version": 3
   },
   "file_extension": ".py",
   "mimetype": "text/x-python",
   "name": "python",
   "nbconvert_exporter": "python",
   "pygments_lexer": "ipython3",
   "version": "3.5.6"
  }
 },
 "nbformat": 4,
 "nbformat_minor": 2
}
