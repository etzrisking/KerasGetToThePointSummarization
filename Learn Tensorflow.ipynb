{
 "cells": [
  {
   "cell_type": "markdown",
   "metadata": {},
   "source": [
    "**Standard Linear Regression**"
   ]
  },
  {
   "cell_type": "code",
   "execution_count": 1,
   "metadata": {},
   "outputs": [],
   "source": [
    "import tensorflow as tf"
   ]
  },
  {
   "cell_type": "code",
   "execution_count": 2,
   "metadata": {},
   "outputs": [],
   "source": [
    "x = tf.placeholder(tf.float32, name = 'x', shape = [None, 3])\n",
    "W = tf.Variable(name = 'W', initial_value=tf.zeros([3, 1]))\n",
    "b = tf.Variable(name = 'b', initial_value=tf.zeros([1]))\n",
    "model = tf.add(tf.matmul(x, W), b, name = 'y_pred')\n",
    "\n",
    "y = tf.placeholder(tf.float32, name = 'y_true', shape = [None, 1])"
   ]
  },
  {
   "cell_type": "code",
   "execution_count": 3,
   "metadata": {},
   "outputs": [],
   "source": [
    "cost = tf.reduce_mean(tf.square(model - y))\n",
    "train = tf.train.GradientDescentOptimizer(0.001).minimize(cost)"
   ]
  },
  {
   "cell_type": "code",
   "execution_count": 4,
   "metadata": {},
   "outputs": [
    {
     "name": "stdout",
     "output_type": "stream",
     "text": [
      "[array([[3.2458055],\n",
      "       [3.2458055],\n",
      "       [3.2458055]], dtype=float32), array([0.7821186], dtype=float32)]\n"
     ]
    }
   ],
   "source": [
    "init = tf.global_variables_initializer()\n",
    "\n",
    "with tf.Session() as sess:\n",
    "    sess.run(init)\n",
    "    \n",
    "    #merged = tf.summary.merge_all()\n",
    "    #writer = tf.summary.FileWriter(\"logs\", sess.graph)\n",
    "\n",
    "    for i in range(1000):\n",
    "        _, c = sess.run([train, cost], feed_dict = {\n",
    "            x: [[1,1,1], [2,2,2], [3,3,3], [4,4,4]],\n",
    "            y: [[10], [20], [30], [40]]\n",
    "        })\n",
    "    \n",
    "    print(sess.run([W, b]))"
   ]
  },
  {
   "cell_type": "markdown",
   "metadata": {},
   "source": [
    "**Neural Network**"
   ]
  },
  {
   "cell_type": "code",
   "execution_count": 25,
   "metadata": {},
   "outputs": [
    {
     "name": "stdout",
     "output_type": "stream",
     "text": [
      "[[-199.99998 ]\n",
      " [ -99.99999 ]\n",
      " [   9.999999]\n",
      " [  19.999998]\n",
      " [  29.999996]\n",
      " [  39.999992]\n",
      " [  49.999996]\n",
      " [  99.99999 ]]\n"
     ]
    }
   ],
   "source": [
    "num_inputs = 3\n",
    "num_nodes1 = 5\n",
    "num_nodes2 = 3\n",
    "num_outputs = 1\n",
    "\n",
    "layer_1 = {\n",
    "    'W1': tf.Variable(tf.random_normal(shape=[num_inputs, num_nodes1]), name='W1'),\n",
    "    'b1': tf.Variable(tf.random_normal(shape=[num_nodes1]), name='b1')\n",
    "}\n",
    "\n",
    "layer_2 = {\n",
    "    'W2': tf.Variable(tf.random_normal(shape=[num_nodes1, num_nodes2]), name='W2'),\n",
    "    'b2': tf.Variable(tf.random_normal(shape=[num_nodes2]), name='b2')\n",
    "}\n",
    "\n",
    "layer_output = {\n",
    "    'Wo': tf.Variable(tf.random_normal(shape=[num_nodes2, num_outputs]), name='Wo'),\n",
    "    'bo': tf.Variable(tf.random_normal(shape=[num_outputs]), name='bo')\n",
    "}\n",
    "\n",
    "\n",
    "input_x = tf.placeholder(shape=[None, num_inputs], dtype=tf.float32)\n",
    "\n",
    "layer_output_value = tf.add(tf.matmul(input_x, layer_1['W1']), layer_1['b1'])\n",
    "layer_output_value = tf.add(tf.matmul(layer_output_value, layer_2['W2']), layer_2['b2'])\n",
    "\n",
    "model = tf.add(tf.matmul(layer_output_value, layer_output['Wo']), layer_output['bo'])\n",
    "\n",
    "y = tf.placeholder(shape=[None, 1], dtype=tf.float32)\n",
    "\n",
    "cost = tf.reduce_mean(tf.square(model - y))\n",
    "optimizer = tf.train.GradientDescentOptimizer(0.001).minimize(cost)\n",
    "\n",
    "init = tf.global_variables_initializer()\n",
    "\n",
    "with tf.Session() as sess:\n",
    "    sess.run(init)\n",
    "    \n",
    "    for i in range(3000):\n",
    "        _, c = sess.run([optimizer, cost], feed_dict = {\n",
    "            input_x: [[1,1,1], [2,2,2], [3,3,3], [4,4,4]],\n",
    "            y: [[10], [20], [30], [40]]\n",
    "        })\n",
    "    \n",
    "    y_pred = sess.run(model, feed_dict={\n",
    "        input_x: [[-20,-20,-20], [-10,-10,-10],\n",
    "                  [1,1,1], [2,2,2], [3,3,3], [4,4,4], \n",
    "                  [5,5,5], [10,10,10]],\n",
    "    })\n",
    "    \n",
    "    print(y_pred)"
   ]
  },
  {
   "cell_type": "markdown",
   "metadata": {},
   "source": [
    "**LSTM**"
   ]
  },
  {
   "cell_type": "code",
   "execution_count": null,
   "metadata": {},
   "outputs": [],
   "source": []
  }
 ],
 "metadata": {
  "kernelspec": {
   "display_name": "tf_gpu",
   "language": "python",
   "name": "tf_gpu"
  },
  "language_info": {
   "codemirror_mode": {
    "name": "ipython",
    "version": 3
   },
   "file_extension": ".py",
   "mimetype": "text/x-python",
   "name": "python",
   "nbconvert_exporter": "python",
   "pygments_lexer": "ipython3",
   "version": "3.5.6"
  }
 },
 "nbformat": 4,
 "nbformat_minor": 2
}
